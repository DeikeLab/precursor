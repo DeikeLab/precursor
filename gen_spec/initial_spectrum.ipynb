{
 "cells": [
  {
   "cell_type": "code",
   "execution_count": 1,
   "id": "420e43ac",
   "metadata": {},
   "outputs": [
    {
     "name": "stdout",
     "output_type": "stream",
     "text": [
      "56.568542494923804\n"
     ]
    }
   ],
   "source": [
    "#\n",
    "import pandas as pd\n",
    "import numpy as np\n",
    "from matplotlib import pyplot as plt\n",
    "from specgen import spectrum_PM, spectrum_gen_linear, eta_random, spectrum_PM_piece\n",
    "#\n",
    "P    = 0.0016/6.4;          # energy level (estimated so that kpHs is reasonable)\n",
    "Bo_1 = 200;\n",
    "Bo_2 = 1\n",
    "N  = 4\n",
    "L  = 2.0*np.pi    # domain size\n",
    "kp = 2*np.pi/(L/N)    # peak wavenumber\n",
    "N_mode  = 64 # number of modes\n",
    "N_power = 5   # directional spreading coeff\n",
    "k_cf = (kp**2*Bo_1/Bo_2)**0.5\n",
    "print(k_cf);\n",
    "#"
   ]
  },
  {
   "cell_type": "code",
   "execution_count": 2,
   "id": "4df26ed2",
   "metadata": {},
   "outputs": [
    {
     "name": "stdout",
     "output_type": "stream",
     "text": [
      "kpHs = 0.0405659\n"
     ]
    }
   ],
   "source": [
    "#\n",
    "def shape(kmod):\n",
    "    ''' Choose values here '''\n",
    "    global P, kp\n",
    "    #F_kmod = spectrum_PM (P, kp, kmod);\n",
    "    F_kmod = spectrum_PM_piece (P, kp, k_cf, kmod);\n",
    "    #F_kmod = spectrum_PM(P, kp, kmod)\n",
    "    return F_kmod\n",
    "#\n",
    "kmod, F_kmod, kx, ky, F_kxky_tile = spectrum_gen_linear(\n",
    "    shape, N_mode=N_mode, L=L, N_power=N_power)\n",
    "#\n",
    "''' Generate a grid in x-y to visualize random eta '''\n",
    "N_grid = 256  # L = 200\n",
    "x = np.linspace(-L/2, L/2, N_grid)\n",
    "y = np.linspace(-L/2, L/2, N_grid)\n",
    "x_tile, y_tile = np.meshgrid(x, y)\n",
    "kx_tile, ky_tile = np.meshgrid(kx, ky)\n",
    "t = 0\n",
    "eta_tile, phase_tile = eta_random(\n",
    "    t, kx_tile, ky_tile, F_kxky_tile, x_tile, y_tile)\n",
    "kpHs = kp*np.std(eta_tile)*4;\n",
    "print('kpHs = %g' % (kpHs));\n",
    "#"
   ]
  },
  {
   "cell_type": "code",
   "execution_count": 3,
   "id": "9967d9cf",
   "metadata": {},
   "outputs": [
    {
     "name": "stdout",
     "output_type": "stream",
     "text": [
      "[  1.           3.23809524   5.47619048   7.71428571   9.95238095\n",
      "  12.19047619  14.42857143  16.66666667  18.9047619   21.14285714\n",
      "  23.38095238  25.61904762  27.85714286  30.0952381   32.33333333\n",
      "  34.57142857  36.80952381  39.04761905  41.28571429  43.52380952\n",
      "  45.76190476  48.          50.23809524  52.47619048  54.71428571\n",
      "  56.95238095  59.19047619  61.42857143  63.66666667  65.9047619\n",
      "  68.14285714  70.38095238  72.61904762  74.85714286  77.0952381\n",
      "  79.33333333  81.57142857  83.80952381  86.04761905  88.28571429\n",
      "  90.52380952  92.76190476  95.          97.23809524  99.47619048\n",
      " 101.71428571 103.95238095 106.19047619 108.42857143 110.66666667\n",
      " 112.9047619  115.14285714 117.38095238 119.61904762 121.85714286\n",
      " 124.0952381  126.33333333 128.57142857 130.80952381 133.04761905\n",
      " 135.28571429 137.52380952 139.76190476 142.        ]\n",
      "[5.15288406e-13 1.09315244e-06 7.81385332e-07 3.89131638e-07\n",
      " 2.07236841e-07 1.20622841e-07 7.56045208e-08 5.02486684e-08\n",
      " 3.49882887e-08 2.52940486e-08 1.88566552e-08 1.44217230e-08\n",
      " 1.12703508e-08 8.97132635e-09 7.25571553e-09 5.95005008e-09\n",
      " 4.93911208e-09 4.14438040e-09 3.51111273e-09 3.00036494e-09\n",
      " 2.58392582e-09 2.24102334e-09 1.95613585e-09 1.71750854e-09\n",
      " 1.51612976e-09 1.33809621e-09 1.15801059e-09 1.00755289e-09\n",
      " 8.81021462e-10 7.73960733e-10 6.82858373e-10 6.04923056e-10\n",
      " 5.37919579e-10 4.80045313e-10 4.29836788e-10 3.86098422e-10\n",
      " 3.47847714e-10 3.14272775e-10 2.84699165e-10 2.58563834e-10\n",
      " 2.35394509e-10 2.14793282e-10 1.96423475e-10 1.79999065e-10\n",
      " 1.65276122e-10 1.52045855e-10 1.40128914e-10 1.29370730e-10\n",
      " 1.19637657e-10 1.10813788e-10 1.02798301e-10 9.55032505e-11\n",
      " 8.88517123e-11 8.27762283e-11 7.72174923e-11 7.21232390e-11\n",
      " 6.74473014e-11 6.31488069e-11 5.91914927e-11 5.55431183e-11\n",
      " 5.21749617e-11 4.90613853e-11 4.61794620e-11 4.35086511e-11]\n"
     ]
    },
    {
     "data": {
      "text/plain": [
       "Text(120, 5e-10, '$k_cL_0\\\\approx 352$')"
      ]
     },
     "execution_count": 3,
     "metadata": {},
     "output_type": "execute_result"
    },
    {
     "data": {
      "image/png": "[encoded data removed]",
      "text/plain": [
       "<Figure size 432x288 with 1 Axes>"
      ]
     },
     "metadata": {
      "needs_background": "light"
     },
     "output_type": "display_data"
    }
   ],
   "source": [
    "#\n",
    "do_show = 0;\n",
    "cm = 1.0/2.54;\n",
    "wid = 10.0;\n",
    "hei = 8.5;\n",
    "st_diss = 50;\n",
    "size_bib = 8;\n",
    "size_tit = 14;\n",
    "line_width = 0.9;\n",
    "plt.rcParams['font.size'] = 12\n",
    "plt.rcParams['font.family'] = \"serif\"\n",
    "tdir = 'in'\n",
    "major = 5.0\n",
    "minor = 3.0\n",
    "plt.rcParams['xtick.direction'] = tdir\n",
    "plt.rcParams['ytick.direction'] = tdir\n",
    "plt.rcParams['xtick.major.size'] = major\n",
    "plt.rcParams['xtick.minor.size'] = minor\n",
    "plt.rcParams['ytick.major.size'] = major\n",
    "plt.rcParams['ytick.minor.size'] = minor\n",
    "#\n",
    "L0 = 2.0*np.pi; kp = 4;\n",
    "print(kmod)\n",
    "print(F_kmod)\n",
    "#plt.xscale('log',base=10)\n",
    "#plt.yscale('log',base=10) \n",
    "plt.loglog(kmod*L0,F_kmod*kp**3);\n",
    "plt.xlabel(r\"$kL_0$\");\n",
    "plt.ylabel(r\"$\\phi k^3$\")\n",
    "xc = k_cf*np.ones([len(F_kmod)]);\n",
    "plt.plot(xc*L0,F_kmod*kp**3,'k-.',linewidth=0.5);\n",
    "plt.annotate(r\"$k_cL_0\\approx 352$\", xy=(120, 0.5e-9))\n",
    "#\n",
    "#stop"
   ]
  },
  {
   "cell_type": "code",
   "execution_count": 4,
   "id": "9658bfba",
   "metadata": {},
   "outputs": [
    {
     "name": "stdout",
     "output_type": "stream",
     "text": [
      "Spectrum array shape: (65, 64)\n",
      "Written to /scratch/cimes/ns8802/precursor_single_phase/broadband/re720_kpHS0p04_L09_R2_bo0200/F_kxky_P0.00025_L6.28319m_N5_kpHs0.0405659_N_mode64_bo200\n",
      "Written to /scratch/cimes/ns8802/precursor_single_phase/broadband/re720_kpHS0p04_L09_R2_bo0200/kx_P0.00025_L6.28319m_N5_kpHs0.0405659_N_mode64_bo200\n",
      "Written to /scratch/cimes/ns8802/precursor_single_phase/broadband/re720_kpHS0p04_L09_R2_bo0200/ky_P0.00025_L6.28319m_N5_kpHs0.0405659_N_mode64_bo200\n"
     ]
    }
   ],
   "source": [
    "#\n",
    "''' When happy, output the spectra '''\n",
    "print('Spectrum array shape:', F_kxky_tile.shape)\n",
    "path = \"/scratch/cimes/ns8802/precursor_single_phase/broadband/re720_kpHS0p04_L09_R2_bo0200/\";\n",
    "#\n",
    "\n",
    "#\n",
    "#''' This is a 0.5 meter box case '''\n",
    "#kp = 2*np.pi/0.1\n",
    "#P = 0.0012\n",
    "#L = 0.5\n",
    "#N_mode = 32\n",
    "#N_power = 5\n",
    "\n",
    "#''' This is a 500 meter box case '''\n",
    "#kp = 2*np.pi/100\n",
    "#P = 0.08\n",
    "#L = 0.5\n",
    "#N_mode = 32\n",
    "#N_power = 5\n",
    "#/home/nn8802/Documents/simulation/embedded\n",
    "#\n",
    "file = \"F_kxky_P%.5f_L%gm_N%g_kpHs%g_N_mode%g_bo%g\" % (P, L, N_power, kpHs, N_mode, Bo_1)\n",
    "fF = open(path + file, 'bw')\n",
    "print('Written to', path+file)\n",
    "F_output = F_kxky_tile.astype('float32')\n",
    "#F_output = F_kxky_tile.astype('double');\n",
    "F_output.tofile(fF)\n",
    "#\n",
    "file = \"kx_P%.5f_L%gm_N%g_kpHs%g_N_mode%g_bo%g\" % (P, L, N_power, kpHs, N_mode, Bo_1)\n",
    "fF = open(path + file, 'bw')\n",
    "print('Written to', path+file)\n",
    "F_output = kx.astype('float32')\n",
    "#F_output = kx.astype('double');\n",
    "F_output.tofile(fF)\n",
    "#\n",
    "file = \"ky_P%.5f_L%gm_N%g_kpHs%g_N_mode%g_bo%g\" % (P, L, N_power, kpHs, N_mode, Bo_1)\n",
    "fF = open(path + file, 'bw')\n",
    "print('Written to', path+file)\n",
    "F_output = ky.astype('float32');\n",
    "#F_output = ky.astype('double');\n",
    "F_output.tofile(fF)"
   ]
  },
  {
   "cell_type": "code",
   "execution_count": null,
   "id": "e0a5333e",
   "metadata": {},
   "outputs": [],
   "source": []
  },
  {
   "cell_type": "code",
   "execution_count": null,
   "id": "d446b04c",
   "metadata": {},
   "outputs": [],
   "source": []
  },
  {
   "cell_type": "code",
   "execution_count": null,
   "id": "a319fa9d",
   "metadata": {},
   "outputs": [],
   "source": []
  },
  {
   "cell_type": "code",
   "execution_count": null,
   "id": "51ac5102",
   "metadata": {},
   "outputs": [],
   "source": []
  }
 ],
 "metadata": {
  "kernelspec": {
   "display_name": "Python 3.8 [anaconda3/2020.7]",
   "language": "python",
   "name": "sys_python38"
  },
  "language_info": {
   "codemirror_mode": {
    "name": "ipython",
    "version": 3
   },
   "file_extension": ".py",
   "mimetype": "text/x-python",
   "name": "python",
   "nbconvert_exporter": "python",
   "pygments_lexer": "ipython3",
   "version": "3.8.3"
  }
 },
 "nbformat": 4,
 "nbformat_minor": 5
}
